{
  "cells": [
    {
      "cell_type": "markdown",
      "metadata": {
        "id": "view-in-github",
        "colab_type": "text"
      },
      "source": [
        "<a href=\"https://colab.research.google.com/github/lfa-systems/Telecom_X/blob/main/TelecomX_BR.ipynb\" target=\"_parent\"><img src=\"https://colab.research.google.com/assets/colab-badge.svg\" alt=\"Open In Colab\"/></a>"
      ]
    },
    {
      "cell_type": "markdown",
      "metadata": {
        "id": "4foVEKhrlqcH"
      },
      "source": [
        "#📌 Extracão"
      ]
    },
    {
      "cell_type": "code",
      "execution_count": 88,
      "metadata": {
        "id": "1--uPM88l7JH"
      },
      "outputs": [],
      "source": [
        "import pandas as pd"
      ]
    },
    {
      "cell_type": "code",
      "source": [
        "url = 'https://raw.githubusercontent.com/lfa-systems/Telecom_X/refs/heads/main/dados/TelecomX_Data.json'"
      ],
      "metadata": {
        "id": "6UkqcCNpDBup"
      },
      "execution_count": 89,
      "outputs": []
    },
    {
      "cell_type": "code",
      "source": [
        "dados = pd.read_json(url)"
      ],
      "metadata": {
        "id": "TfEG2SpqDGsW"
      },
      "execution_count": 90,
      "outputs": []
    },
    {
      "cell_type": "code",
      "source": [
        "dados.head()"
      ],
      "metadata": {
        "colab": {
          "base_uri": "https://localhost:8080/",
          "height": 293
        },
        "id": "4nLOQ6SGDNE6",
        "outputId": "459ba68d-1288-41da-9b87-7b9bd794b036"
      },
      "execution_count": 91,
      "outputs": [
        {
          "output_type": "execute_result",
          "data": {
            "text/plain": [
              "   customerID Churn                                           customer  \\\n",
              "0  0002-ORFBO    No  {'gender': 'Female', 'SeniorCitizen': 0, 'Part...   \n",
              "1  0003-MKNFE    No  {'gender': 'Male', 'SeniorCitizen': 0, 'Partne...   \n",
              "2  0004-TLHLJ   Yes  {'gender': 'Male', 'SeniorCitizen': 0, 'Partne...   \n",
              "3  0011-IGKFF   Yes  {'gender': 'Male', 'SeniorCitizen': 1, 'Partne...   \n",
              "4  0013-EXCHZ   Yes  {'gender': 'Female', 'SeniorCitizen': 1, 'Part...   \n",
              "\n",
              "                                             phone  \\\n",
              "0   {'PhoneService': 'Yes', 'MultipleLines': 'No'}   \n",
              "1  {'PhoneService': 'Yes', 'MultipleLines': 'Yes'}   \n",
              "2   {'PhoneService': 'Yes', 'MultipleLines': 'No'}   \n",
              "3   {'PhoneService': 'Yes', 'MultipleLines': 'No'}   \n",
              "4   {'PhoneService': 'Yes', 'MultipleLines': 'No'}   \n",
              "\n",
              "                                            internet  \\\n",
              "0  {'InternetService': 'DSL', 'OnlineSecurity': '...   \n",
              "1  {'InternetService': 'DSL', 'OnlineSecurity': '...   \n",
              "2  {'InternetService': 'Fiber optic', 'OnlineSecu...   \n",
              "3  {'InternetService': 'Fiber optic', 'OnlineSecu...   \n",
              "4  {'InternetService': 'Fiber optic', 'OnlineSecu...   \n",
              "\n",
              "                                             account  \n",
              "0  {'Contract': 'One year', 'PaperlessBilling': '...  \n",
              "1  {'Contract': 'Month-to-month', 'PaperlessBilli...  \n",
              "2  {'Contract': 'Month-to-month', 'PaperlessBilli...  \n",
              "3  {'Contract': 'Month-to-month', 'PaperlessBilli...  \n",
              "4  {'Contract': 'Month-to-month', 'PaperlessBilli...  "
            ],
            "text/html": [
              "\n",
              "  <div id=\"df-cec6711d-0029-4da0-af00-82182959e03e\" class=\"colab-df-container\">\n",
              "    <div>\n",
              "<style scoped>\n",
              "    .dataframe tbody tr th:only-of-type {\n",
              "        vertical-align: middle;\n",
              "    }\n",
              "\n",
              "    .dataframe tbody tr th {\n",
              "        vertical-align: top;\n",
              "    }\n",
              "\n",
              "    .dataframe thead th {\n",
              "        text-align: right;\n",
              "    }\n",
              "</style>\n",
              "<table border=\"1\" class=\"dataframe\">\n",
              "  <thead>\n",
              "    <tr style=\"text-align: right;\">\n",
              "      <th></th>\n",
              "      <th>customerID</th>\n",
              "      <th>Churn</th>\n",
              "      <th>customer</th>\n",
              "      <th>phone</th>\n",
              "      <th>internet</th>\n",
              "      <th>account</th>\n",
              "    </tr>\n",
              "  </thead>\n",
              "  <tbody>\n",
              "    <tr>\n",
              "      <th>0</th>\n",
              "      <td>0002-ORFBO</td>\n",
              "      <td>No</td>\n",
              "      <td>{'gender': 'Female', 'SeniorCitizen': 0, 'Part...</td>\n",
              "      <td>{'PhoneService': 'Yes', 'MultipleLines': 'No'}</td>\n",
              "      <td>{'InternetService': 'DSL', 'OnlineSecurity': '...</td>\n",
              "      <td>{'Contract': 'One year', 'PaperlessBilling': '...</td>\n",
              "    </tr>\n",
              "    <tr>\n",
              "      <th>1</th>\n",
              "      <td>0003-MKNFE</td>\n",
              "      <td>No</td>\n",
              "      <td>{'gender': 'Male', 'SeniorCitizen': 0, 'Partne...</td>\n",
              "      <td>{'PhoneService': 'Yes', 'MultipleLines': 'Yes'}</td>\n",
              "      <td>{'InternetService': 'DSL', 'OnlineSecurity': '...</td>\n",
              "      <td>{'Contract': 'Month-to-month', 'PaperlessBilli...</td>\n",
              "    </tr>\n",
              "    <tr>\n",
              "      <th>2</th>\n",
              "      <td>0004-TLHLJ</td>\n",
              "      <td>Yes</td>\n",
              "      <td>{'gender': 'Male', 'SeniorCitizen': 0, 'Partne...</td>\n",
              "      <td>{'PhoneService': 'Yes', 'MultipleLines': 'No'}</td>\n",
              "      <td>{'InternetService': 'Fiber optic', 'OnlineSecu...</td>\n",
              "      <td>{'Contract': 'Month-to-month', 'PaperlessBilli...</td>\n",
              "    </tr>\n",
              "    <tr>\n",
              "      <th>3</th>\n",
              "      <td>0011-IGKFF</td>\n",
              "      <td>Yes</td>\n",
              "      <td>{'gender': 'Male', 'SeniorCitizen': 1, 'Partne...</td>\n",
              "      <td>{'PhoneService': 'Yes', 'MultipleLines': 'No'}</td>\n",
              "      <td>{'InternetService': 'Fiber optic', 'OnlineSecu...</td>\n",
              "      <td>{'Contract': 'Month-to-month', 'PaperlessBilli...</td>\n",
              "    </tr>\n",
              "    <tr>\n",
              "      <th>4</th>\n",
              "      <td>0013-EXCHZ</td>\n",
              "      <td>Yes</td>\n",
              "      <td>{'gender': 'Female', 'SeniorCitizen': 1, 'Part...</td>\n",
              "      <td>{'PhoneService': 'Yes', 'MultipleLines': 'No'}</td>\n",
              "      <td>{'InternetService': 'Fiber optic', 'OnlineSecu...</td>\n",
              "      <td>{'Contract': 'Month-to-month', 'PaperlessBilli...</td>\n",
              "    </tr>\n",
              "  </tbody>\n",
              "</table>\n",
              "</div>\n",
              "    <div class=\"colab-df-buttons\">\n",
              "      \n",
              "  <div class=\"colab-df-container\">\n",
              "    <button class=\"colab-df-convert\" onclick=\"convertToInteractive('df-cec6711d-0029-4da0-af00-82182959e03e')\"\n",
              "            title=\"Convert this dataframe to an interactive table.\"\n",
              "            style=\"display:none;\">\n",
              "      \n",
              "  <svg xmlns=\"http://www.w3.org/2000/svg\" height=\"24px\" viewBox=\"0 -960 960 960\">\n",
              "    <path d=\"M120-120v-720h720v720H120Zm60-500h600v-160H180v160Zm220 220h160v-160H400v160Zm0 220h160v-160H400v160ZM180-400h160v-160H180v160Zm440 0h160v-160H620v160ZM180-180h160v-160H180v160Zm440 0h160v-160H620v160Z\"/>\n",
              "  </svg>\n",
              "    </button>\n",
              "    \n",
              "  <style>\n",
              "    .colab-df-container {\n",
              "      display:flex;\n",
              "      gap: 12px;\n",
              "    }\n",
              "\n",
              "    .colab-df-convert {\n",
              "      background-color: #E8F0FE;\n",
              "      border: none;\n",
              "      border-radius: 50%;\n",
              "      cursor: pointer;\n",
              "      display: none;\n",
              "      fill: #1967D2;\n",
              "      height: 32px;\n",
              "      padding: 0 0 0 0;\n",
              "      width: 32px;\n",
              "    }\n",
              "\n",
              "    .colab-df-convert:hover {\n",
              "      background-color: #E2EBFA;\n",
              "      box-shadow: 0px 1px 2px rgba(60, 64, 67, 0.3), 0px 1px 3px 1px rgba(60, 64, 67, 0.15);\n",
              "      fill: #174EA6;\n",
              "    }\n",
              "\n",
              "    .colab-df-buttons div {\n",
              "      margin-bottom: 4px;\n",
              "    }\n",
              "\n",
              "    [theme=dark] .colab-df-convert {\n",
              "      background-color: #3B4455;\n",
              "      fill: #D2E3FC;\n",
              "    }\n",
              "\n",
              "    [theme=dark] .colab-df-convert:hover {\n",
              "      background-color: #434B5C;\n",
              "      box-shadow: 0px 1px 3px 1px rgba(0, 0, 0, 0.15);\n",
              "      filter: drop-shadow(0px 1px 2px rgba(0, 0, 0, 0.3));\n",
              "      fill: #FFFFFF;\n",
              "    }\n",
              "  </style>\n",
              "\n",
              "    <script>\n",
              "      const buttonEl =\n",
              "        document.querySelector('#df-cec6711d-0029-4da0-af00-82182959e03e button.colab-df-convert');\n",
              "      buttonEl.style.display =\n",
              "        google.colab.kernel.accessAllowed ? 'block' : 'none';\n",
              "\n",
              "      async function convertToInteractive(key) {\n",
              "        const element = document.querySelector('#df-cec6711d-0029-4da0-af00-82182959e03e');\n",
              "        const dataTable =\n",
              "          await google.colab.kernel.invokeFunction('convertToInteractive',\n",
              "                                                    [key], {});\n",
              "        if (!dataTable) return;\n",
              "\n",
              "        const docLinkHtml = 'Like what you see? Visit the ' +\n",
              "          '<a target=\"_blank\" href=https://colab.research.google.com/notebooks/data_table.ipynb>data table notebook</a>'\n",
              "          + ' to learn more about interactive tables.';\n",
              "        element.innerHTML = '';\n",
              "        dataTable['output_type'] = 'display_data';\n",
              "        await google.colab.output.renderOutput(dataTable, element);\n",
              "        const docLink = document.createElement('div');\n",
              "        docLink.innerHTML = docLinkHtml;\n",
              "        element.appendChild(docLink);\n",
              "      }\n",
              "    </script>\n",
              "  </div>\n",
              "  \n",
              "    </div>\n",
              "  </div>\n",
              "  "
            ]
          },
          "metadata": {},
          "execution_count": 91
        }
      ]
    },
    {
      "cell_type": "code",
      "source": [
        "dados.info()"
      ],
      "metadata": {
        "colab": {
          "base_uri": "https://localhost:8080/"
        },
        "id": "AfZHOrj_X0dT",
        "outputId": "ef90e4ac-2647-496b-df81-c5827042ff19"
      },
      "execution_count": 92,
      "outputs": [
        {
          "output_type": "stream",
          "name": "stdout",
          "text": [
            "<class 'pandas.core.frame.DataFrame'>\n",
            "RangeIndex: 7267 entries, 0 to 7266\n",
            "Data columns (total 6 columns):\n",
            " #   Column      Non-Null Count  Dtype \n",
            "---  ------      --------------  ----- \n",
            " 0   customerID  7267 non-null   object\n",
            " 1   Churn       7267 non-null   object\n",
            " 2   customer    7267 non-null   object\n",
            " 3   phone       7267 non-null   object\n",
            " 4   internet    7267 non-null   object\n",
            " 5   account     7267 non-null   object\n",
            "dtypes: object(6)\n",
            "memory usage: 340.8+ KB\n"
          ]
        }
      ]
    },
    {
      "cell_type": "code",
      "source": [
        "colunas = list(dados.columns)\n",
        "colunas"
      ],
      "metadata": {
        "colab": {
          "base_uri": "https://localhost:8080/"
        },
        "id": "0PPCp4sAafXH",
        "outputId": "7eba3adc-72b2-49c2-c12d-de375341214f"
      },
      "execution_count": 93,
      "outputs": [
        {
          "output_type": "execute_result",
          "data": {
            "text/plain": [
              "['customerID', 'Churn', 'customer', 'phone', 'internet', 'account']"
            ]
          },
          "metadata": {},
          "execution_count": 93
        }
      ]
    },
    {
      "cell_type": "code",
      "source": [
        "for nome_coluna in colunas[2:]:\n",
        "  globals()[nome_coluna] = pd.json_normalize(dados[nome_coluna])"
      ],
      "metadata": {
        "id": "_VvyAyESINpw"
      },
      "execution_count": 94,
      "outputs": []
    },
    {
      "cell_type": "code",
      "source": [
        "print('Customer\\n', customer)\n",
        "print('\\nPhone\\n', phone)\n",
        "print('\\nInternet\\n', internet)\n",
        "print('\\nAccount\\n', account)"
      ],
      "metadata": {
        "colab": {
          "base_uri": "https://localhost:8080/"
        },
        "id": "R1dcIReibdZq",
        "outputId": "b03b5292-6402-4593-dd66-b966452fe5b9"
      },
      "execution_count": 95,
      "outputs": [
        {
          "output_type": "stream",
          "name": "stdout",
          "text": [
            "Customer\n",
            "       gender  SeniorCitizen Partner Dependents  tenure\n",
            "0     Female              0     Yes        Yes       9\n",
            "1       Male              0      No         No       9\n",
            "2       Male              0      No         No       4\n",
            "3       Male              1     Yes         No      13\n",
            "4     Female              1     Yes         No       3\n",
            "...      ...            ...     ...        ...     ...\n",
            "7262  Female              0      No         No      13\n",
            "7263    Male              0     Yes         No      22\n",
            "7264    Male              0      No         No       2\n",
            "7265    Male              0     Yes        Yes      67\n",
            "7266    Male              0     Yes        Yes      63\n",
            "\n",
            "[7267 rows x 5 columns]\n",
            "\n",
            "Phone\n",
            "      PhoneService     MultipleLines\n",
            "0             Yes                No\n",
            "1             Yes               Yes\n",
            "2             Yes                No\n",
            "3             Yes                No\n",
            "4             Yes                No\n",
            "...           ...               ...\n",
            "7262          Yes                No\n",
            "7263          Yes               Yes\n",
            "7264          Yes                No\n",
            "7265          Yes                No\n",
            "7266           No  No phone service\n",
            "\n",
            "[7267 rows x 2 columns]\n",
            "\n",
            "Internet\n",
            "      InternetService OnlineSecurity OnlineBackup DeviceProtection TechSupport  \\\n",
            "0                DSL             No          Yes               No         Yes   \n",
            "1                DSL             No           No               No          No   \n",
            "2        Fiber optic             No           No              Yes          No   \n",
            "3        Fiber optic             No          Yes              Yes          No   \n",
            "4        Fiber optic             No           No               No         Yes   \n",
            "...              ...            ...          ...              ...         ...   \n",
            "7262             DSL            Yes           No               No         Yes   \n",
            "7263     Fiber optic             No           No               No          No   \n",
            "7264             DSL             No          Yes               No          No   \n",
            "7265             DSL            Yes           No              Yes         Yes   \n",
            "7266             DSL            Yes          Yes              Yes          No   \n",
            "\n",
            "     StreamingTV StreamingMovies  \n",
            "0            Yes              No  \n",
            "1             No             Yes  \n",
            "2             No              No  \n",
            "3            Yes             Yes  \n",
            "4            Yes              No  \n",
            "...          ...             ...  \n",
            "7262          No              No  \n",
            "7263          No             Yes  \n",
            "7264          No              No  \n",
            "7265          No             Yes  \n",
            "7266         Yes             Yes  \n",
            "\n",
            "[7267 rows x 7 columns]\n",
            "\n",
            "Account\n",
            "             Contract PaperlessBilling     PaymentMethod  Charges.Monthly  \\\n",
            "0           One year              Yes      Mailed check            65.60   \n",
            "1     Month-to-month               No      Mailed check            59.90   \n",
            "2     Month-to-month              Yes  Electronic check            73.90   \n",
            "3     Month-to-month              Yes  Electronic check            98.00   \n",
            "4     Month-to-month              Yes      Mailed check            83.90   \n",
            "...              ...              ...               ...              ...   \n",
            "7262        One year               No      Mailed check            55.15   \n",
            "7263  Month-to-month              Yes  Electronic check            85.10   \n",
            "7264  Month-to-month              Yes      Mailed check            50.30   \n",
            "7265        Two year               No      Mailed check            67.85   \n",
            "7266        Two year               No  Electronic check            59.00   \n",
            "\n",
            "     Charges.Total  \n",
            "0            593.3  \n",
            "1            542.4  \n",
            "2           280.85  \n",
            "3          1237.85  \n",
            "4            267.4  \n",
            "...            ...  \n",
            "7262         742.9  \n",
            "7263        1873.7  \n",
            "7264         92.75  \n",
            "7265       4627.65  \n",
            "7266        3707.6  \n",
            "\n",
            "[7267 rows x 5 columns]\n"
          ]
        }
      ]
    },
    {
      "cell_type": "code",
      "source": [
        "def strbool(v):\n",
        "  '''\n",
        "  Função para converter string para booleano\n",
        "  Por: Luciano Azevedo\n",
        "  Entrada: String\n",
        "  Saída: Booleano\n",
        "  '''\n",
        "  return v.lower() in (\"yes\", \"true\", \"t\", \"1\")"
      ],
      "metadata": {
        "id": "yZrejVU4JtU6"
      },
      "execution_count": 96,
      "outputs": []
    },
    {
      "cell_type": "code",
      "source": [
        "for nome_coluna in colunas[2:]:\n",
        "    xcolunas = list(globals()[nome_coluna].columns)\n",
        "    print(f'{nome_coluna}')\n",
        "    for coluna in xcolunas:\n",
        "        print(f'{coluna}\\n',globals()[nome_coluna][coluna].unique())\n"
      ],
      "metadata": {
        "colab": {
          "base_uri": "https://localhost:8080/"
        },
        "id": "5OFRPFOlJ2ko",
        "outputId": "d1b42997-7af3-4369-b76c-7860c8d0f687"
      },
      "execution_count": 106,
      "outputs": [
        {
          "output_type": "stream",
          "name": "stdout",
          "text": [
            "customer\n",
            "gender\n",
            " ['Female' 'Male']\n",
            "SeniorCitizen\n",
            " [0 1]\n",
            "Partner\n",
            " ['Yes' 'No']\n",
            "Dependents\n",
            " ['Yes' 'No']\n",
            "tenure\n",
            " [ 9  4 13  3 71 63  7 65 54 72  5 56 34  1 45 50 23 55 26 69 11 37 49 66\n",
            " 67 20 43 59 12 27  2 25 29 14 35 64 39 40  6 30 70 57 58 16 32 33 10 21\n",
            " 61 15 44 22 24 19 47 62 46 52  8 60 48 28 41 53 68 51 31 36 17 18 38 42\n",
            "  0]\n",
            "phone\n",
            "PhoneService\n",
            " ['Yes' 'No']\n",
            "MultipleLines\n",
            " ['No' 'Yes' 'No phone service']\n",
            "internet\n",
            "InternetService\n",
            " ['DSL' 'Fiber optic' 'No']\n",
            "OnlineSecurity\n",
            " ['No' 'Yes' 'No internet service']\n",
            "OnlineBackup\n",
            " ['Yes' 'No' 'No internet service']\n",
            "DeviceProtection\n",
            " ['No' 'Yes' 'No internet service']\n",
            "TechSupport\n",
            " ['Yes' 'No' 'No internet service']\n",
            "StreamingTV\n",
            " ['Yes' 'No' 'No internet service']\n",
            "StreamingMovies\n",
            " ['No' 'Yes' 'No internet service']\n",
            "account\n",
            "Contract\n",
            " ['One year' 'Month-to-month' 'Two year']\n",
            "PaperlessBilling\n",
            " ['Yes' 'No']\n",
            "PaymentMethod\n",
            " ['Mailed check' 'Electronic check' 'Credit card (automatic)'\n",
            " 'Bank transfer (automatic)']\n",
            "Charges.Monthly\n",
            " [65.6  59.9  73.9  ... 91.75 68.8  67.85]\n",
            "Charges.Total\n",
            " ['593.3' '542.4' '280.85' ... '742.9' '4627.65' '3707.6']\n"
          ]
        }
      ]
    },
    {
      "cell_type": "code",
      "source": [],
      "metadata": {
        "id": "H3c_5ejJYCiB"
      },
      "execution_count": 98,
      "outputs": []
    },
    {
      "cell_type": "markdown",
      "metadata": {
        "id": "1lSZP8zmmGZu"
      },
      "source": [
        "#🔧 Transformação"
      ]
    },
    {
      "cell_type": "code",
      "source": [],
      "metadata": {
        "id": "oleq0f0eC_K8"
      },
      "execution_count": 97,
      "outputs": []
    },
    {
      "cell_type": "code",
      "execution_count": 97,
      "metadata": {
        "id": "bsm-WTLjmHvt"
      },
      "outputs": [],
      "source": []
    },
    {
      "cell_type": "markdown",
      "metadata": {
        "id": "6XnTC2NTmMRL"
      },
      "source": [
        "#📊 Carga e análise"
      ]
    },
    {
      "cell_type": "code",
      "execution_count": 97,
      "metadata": {
        "id": "1jgUnLqTmPdd"
      },
      "outputs": [],
      "source": []
    },
    {
      "cell_type": "markdown",
      "metadata": {
        "id": "v-WzfSvTmaw9"
      },
      "source": [
        "#📄Relatorio Final"
      ]
    },
    {
      "cell_type": "code",
      "execution_count": 97,
      "metadata": {
        "id": "XMTac0YJmeK9"
      },
      "outputs": [],
      "source": []
    }
  ],
  "metadata": {
    "colab": {
      "provenance": [],
      "include_colab_link": true
    },
    "kernelspec": {
      "display_name": "Python 3",
      "name": "python3"
    },
    "language_info": {
      "name": "python"
    }
  },
  "nbformat": 4,
  "nbformat_minor": 0
}